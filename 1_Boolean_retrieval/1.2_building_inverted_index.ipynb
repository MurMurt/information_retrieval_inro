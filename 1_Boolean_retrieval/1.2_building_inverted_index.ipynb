{
 "cells": [
  {
   "cell_type": "markdown",
   "metadata": {},
   "source": [
    "## Inverted index\n",
    "(also referred to as a postings file or inverted file) is a database index storing a mapping from content, such as words or numbers, to its locations in a table, or in a document or a set of documents (named in contrast to a forward index, which maps from documents to content)"
   ]
  },
  {
   "cell_type": "markdown",
   "metadata": {},
   "source": [
    "### Exercise 1.1\n",
    "Draw the inverted index that would be built for the following document collection\n",
    "\n",
    "**Doc 1** new home sales top forecasts  \n",
    "**Doc 2** home sales rise in july  \n",
    "**Doc 3** increase in home sales in july  \n",
    "**Doc 4** july new home sales rise  "
   ]
  },
  {
   "cell_type": "code",
   "execution_count": 1,
   "metadata": {},
   "outputs": [],
   "source": [
    "from collections import OrderedDict"
   ]
  },
  {
   "cell_type": "code",
   "execution_count": 2,
   "metadata": {},
   "outputs": [],
   "source": [
    "collection = [\n",
    "    'new home sales top forecasts',    # Doc 1\n",
    "    'home sales rise in july',         # Doc 2\n",
    "    'increase in home sales in july',  # Doc 3\n",
    "    'july new home sales rise'         # Doc 4\n",
    "]"
   ]
  },
  {
   "cell_type": "markdown",
   "metadata": {},
   "source": [
    "Tokenize the text, turning each document into a list of tokens"
   ]
  },
  {
   "cell_type": "code",
   "execution_count": 3,
   "metadata": {
    "scrolled": true
   },
   "outputs": [
    {
     "data": {
      "text/plain": [
       "[['new', 'home', 'sales', 'top', 'forecasts'],\n",
       " ['home', 'sales', 'rise', 'in', 'july'],\n",
       " ['increase', 'in', 'home', 'sales', 'in', 'july'],\n",
       " ['july', 'new', 'home', 'sales', 'rise']]"
      ]
     },
     "execution_count": 3,
     "metadata": {},
     "output_type": "execute_result"
    }
   ],
   "source": [
    "# simple tokenize by splitting by whitespace\n",
    "tokenized_collection = [text.split(' ') for text in collection]\n",
    "tokenized_collection"
   ]
  },
  {
   "cell_type": "markdown",
   "metadata": {},
   "source": [
    "Index the documents that each term occurs in by creating an inverted index, consisting of a dictionary and postings"
   ]
  },
  {
   "cell_type": "code",
   "execution_count": 4,
   "metadata": {},
   "outputs": [],
   "source": [
    "postings = {}\n",
    "\n",
    "for index, document in enumerate(tokenized_collection):\n",
    "    for term in document:\n",
    "        if term not in postings:\n",
    "            postings[term] = []\n",
    "        postings[term].append(index + 1)  # +1 is used for clarity "
   ]
  },
  {
   "cell_type": "code",
   "execution_count": 5,
   "metadata": {},
   "outputs": [
    {
     "data": {
      "text/plain": [
       "OrderedDict([('forecasts', [1]),\n",
       "             ('home', [1, 2, 3, 4]),\n",
       "             ('in', [2, 3, 3]),\n",
       "             ('increase', [3]),\n",
       "             ('july', [2, 3, 4]),\n",
       "             ('new', [1, 4]),\n",
       "             ('rise', [2, 4]),\n",
       "             ('sales', [1, 2, 3, 4]),\n",
       "             ('top', [1])])"
      ]
     },
     "execution_count": 5,
     "metadata": {},
     "output_type": "execute_result"
    }
   ],
   "source": [
    "# the term frequency = the length of term postings list\n",
    "ordered_postings = OrderedDict(sorted(postings.items(), key=lambda t: t[0]))\n",
    "ordered_postings"
   ]
  },
  {
   "cell_type": "markdown",
   "metadata": {},
   "source": [
    "  "
   ]
  },
  {
   "cell_type": "markdown",
   "metadata": {},
   "source": [
    "### Exercise 1.2\n",
    "\n",
    "#### Consider these documents:  \n",
    "**Doc 1** breakthrough drug for schizophrenia  \n",
    "**Doc 2** new schizophrenia drug  \n",
    "**Doc 3** new approach for treatment of schizophrenia  \n",
    "**Doc 4** new hopes for schizophrenia patients  \n",
    "\n",
    "Draw the term-document incidence matrix for this document collection.\n",
    "***\n",
    "*A document-term matrix or term-document matrix is a mathematical matrix that describes the frequency of terms that occur in a collection of documents.  \n",
    "In a document-term matrix, rows correspond to documents in the collection and columns correspond to terms.*"
   ]
  },
  {
   "cell_type": "code",
   "execution_count": 6,
   "metadata": {},
   "outputs": [],
   "source": [
    "import numpy as np\n",
    "import pandas as pd"
   ]
  },
  {
   "cell_type": "code",
   "execution_count": 7,
   "metadata": {},
   "outputs": [],
   "source": [
    "collection = [\n",
    "    'breakthrough drug for schizophrenia',          # Doc 1\n",
    "    'new schizophrenia drug',                       # Doc 2\n",
    "    'new approach for treatment of schizophrenia',  # Doc 3\n",
    "    'new hopes for schizophrenia patients'          # Doc 4\n",
    "]"
   ]
  },
  {
   "cell_type": "code",
   "execution_count": 8,
   "metadata": {},
   "outputs": [
    {
     "name": "stdout",
     "output_type": "stream",
     "text": [
      "Terms: approach, breakthrough, drug, for, hopes, new, of, patients, schizophrenia, treatment\n"
     ]
    }
   ],
   "source": [
    "# collect all tems from documents\n",
    "\n",
    "terms = set()\n",
    "\n",
    "for text in collection:\n",
    "    terms.update(text.split(' '))\n",
    "terms_list = sorted(terms)\n",
    "print('Terms:', ', '.join(terms_list))"
   ]
  },
  {
   "cell_type": "code",
   "execution_count": 9,
   "metadata": {},
   "outputs": [],
   "source": [
    "columns_count = len(collection)\n",
    "rows_count = len(terms_list)\n",
    "term_doc_matrix = np.zeros(shape=(rows_count, columns_count), dtype=np.int8)"
   ]
  },
  {
   "cell_type": "code",
   "execution_count": 10,
   "metadata": {},
   "outputs": [],
   "source": [
    "for term_index, term in enumerate(terms_list):\n",
    "    for text_index, text in enumerate(collection):\n",
    "        if text.find(term) != -1:\n",
    "            term_doc_matrix[term_index, text_index] = 1"
   ]
  },
  {
   "cell_type": "code",
   "execution_count": 11,
   "metadata": {},
   "outputs": [
    {
     "data": {
      "text/html": [
       "<div>\n",
       "<style scoped>\n",
       "    .dataframe tbody tr th:only-of-type {\n",
       "        vertical-align: middle;\n",
       "    }\n",
       "\n",
       "    .dataframe tbody tr th {\n",
       "        vertical-align: top;\n",
       "    }\n",
       "\n",
       "    .dataframe thead th {\n",
       "        text-align: right;\n",
       "    }\n",
       "</style>\n",
       "<table border=\"1\" class=\"dataframe\">\n",
       "  <thead>\n",
       "    <tr style=\"text-align: right;\">\n",
       "      <th></th>\n",
       "      <th>Doc_0</th>\n",
       "      <th>Doc_1</th>\n",
       "      <th>Doc_2</th>\n",
       "      <th>Doc_3</th>\n",
       "    </tr>\n",
       "  </thead>\n",
       "  <tbody>\n",
       "    <tr>\n",
       "      <th>approach</th>\n",
       "      <td>0</td>\n",
       "      <td>0</td>\n",
       "      <td>1</td>\n",
       "      <td>0</td>\n",
       "    </tr>\n",
       "    <tr>\n",
       "      <th>breakthrough</th>\n",
       "      <td>1</td>\n",
       "      <td>0</td>\n",
       "      <td>0</td>\n",
       "      <td>0</td>\n",
       "    </tr>\n",
       "    <tr>\n",
       "      <th>drug</th>\n",
       "      <td>1</td>\n",
       "      <td>1</td>\n",
       "      <td>0</td>\n",
       "      <td>0</td>\n",
       "    </tr>\n",
       "    <tr>\n",
       "      <th>for</th>\n",
       "      <td>1</td>\n",
       "      <td>0</td>\n",
       "      <td>1</td>\n",
       "      <td>1</td>\n",
       "    </tr>\n",
       "    <tr>\n",
       "      <th>hopes</th>\n",
       "      <td>0</td>\n",
       "      <td>0</td>\n",
       "      <td>0</td>\n",
       "      <td>1</td>\n",
       "    </tr>\n",
       "    <tr>\n",
       "      <th>new</th>\n",
       "      <td>0</td>\n",
       "      <td>1</td>\n",
       "      <td>1</td>\n",
       "      <td>1</td>\n",
       "    </tr>\n",
       "    <tr>\n",
       "      <th>of</th>\n",
       "      <td>0</td>\n",
       "      <td>0</td>\n",
       "      <td>1</td>\n",
       "      <td>0</td>\n",
       "    </tr>\n",
       "    <tr>\n",
       "      <th>patients</th>\n",
       "      <td>0</td>\n",
       "      <td>0</td>\n",
       "      <td>0</td>\n",
       "      <td>1</td>\n",
       "    </tr>\n",
       "    <tr>\n",
       "      <th>schizophrenia</th>\n",
       "      <td>1</td>\n",
       "      <td>1</td>\n",
       "      <td>1</td>\n",
       "      <td>1</td>\n",
       "    </tr>\n",
       "    <tr>\n",
       "      <th>treatment</th>\n",
       "      <td>0</td>\n",
       "      <td>0</td>\n",
       "      <td>1</td>\n",
       "      <td>0</td>\n",
       "    </tr>\n",
       "  </tbody>\n",
       "</table>\n",
       "</div>"
      ],
      "text/plain": [
       "               Doc_0  Doc_1  Doc_2  Doc_3\n",
       "approach           0      0      1      0\n",
       "breakthrough       1      0      0      0\n",
       "drug               1      1      0      0\n",
       "for                1      0      1      1\n",
       "hopes              0      0      0      1\n",
       "new                0      1      1      1\n",
       "of                 0      0      1      0\n",
       "patients           0      0      0      1\n",
       "schizophrenia      1      1      1      1\n",
       "treatment          0      0      1      0"
      ]
     },
     "execution_count": 11,
     "metadata": {},
     "output_type": "execute_result"
    }
   ],
   "source": [
    "rows_names = pd.Index(terms_list)\n",
    "columns_names = pd.Index(['Doc_%d' % i for i in range(len(collection))])\n",
    "df = pd.DataFrame(data=term_doc_matrix, index=rows_names, columns=columns_names)\n",
    "df"
   ]
  },
  {
   "cell_type": "markdown",
   "metadata": {},
   "source": [
    "### Exercise 1.3\n",
    "For the document collection shown in **Exercise 1.2**, what are the returned results for\n",
    "these queries:  \n",
    "*a.* ```schizophrenia AND drug```  \n",
    "*b.* ```for AND NOT(drug OR approach)```"
   ]
  },
  {
   "cell_type": "code",
   "execution_count": 12,
   "metadata": {},
   "outputs": [
    {
     "data": {
      "text/plain": [
       "Doc_0    1\n",
       "Doc_1    1\n",
       "Doc_2    0\n",
       "Doc_3    0\n",
       "dtype: int8"
      ]
     },
     "execution_count": 12,
     "metadata": {},
     "output_type": "execute_result"
    }
   ],
   "source": [
    "# schizophrenia AND drug\n",
    "schizophrenia_vector = df.loc['schizophrenia']\n",
    "drug_vector = df.loc['drug']\n",
    "query_res = np.bitwise_and(schizophrenia_vector, drug_vector)\n",
    "query_res"
   ]
  },
  {
   "cell_type": "code",
   "execution_count": 13,
   "metadata": {},
   "outputs": [
    {
     "data": {
      "text/plain": [
       "Doc_0    0\n",
       "Doc_1    0\n",
       "Doc_2    0\n",
       "Doc_3    1\n",
       "dtype: int8"
      ]
     },
     "execution_count": 13,
     "metadata": {},
     "output_type": "execute_result"
    }
   ],
   "source": [
    "# for AND NOT(drug OR approach)\n",
    "for_vector = df.loc['for']\n",
    "drug_vector = df.loc['drug']\n",
    "approach_vector = df.loc['approach']\n",
    "\n",
    "drug_or_approach = np.bitwise_or(drug_vector, approach_vector)\n",
    "not_doa = np.bitwise_not(drug_or_approach)\n",
    "query_res = np.bitwise_and(for_vector, not_doa)\n",
    "query_res"
   ]
  }
 ],
 "metadata": {
  "kernelspec": {
   "display_name": "Python 3",
   "language": "python",
   "name": "python3"
  },
  "language_info": {
   "codemirror_mode": {
    "name": "ipython",
    "version": 3
   },
   "file_extension": ".py",
   "mimetype": "text/x-python",
   "name": "python",
   "nbconvert_exporter": "python",
   "pygments_lexer": "ipython3",
   "version": "3.7.6"
  }
 },
 "nbformat": 4,
 "nbformat_minor": 4
}
